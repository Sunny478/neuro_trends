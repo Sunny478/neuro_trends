{
 "cells": [
  {
   "cell_type": "code",
   "execution_count": 1,
   "metadata": {},
   "outputs": [],
   "source": [
    "import pandas as pd\n",
    "import numpy as np\n",
    "import matplotlib.pyplot as plt\n",
    "import seaborn as sns\n",
    "from sklearn.ensemble import (RandomForestRegressor, ExtraTreesRegressor,\n",
    "                              AdaBoostRegressor, GradientBoostingRegressor)\n",
    "from sklearn.model_selection import KFold\n",
    "from sklearn.model_selection import cross_val_score\n",
    "\n",
    "import warnings\n",
    "def ignore_warn(*args, **kwargs):\n",
    "    pass\n",
    "warnings.warn = ignore_warn \n",
    "\n",
    "def metric(y_true, y_pred):\n",
    "    return np.mean(np.sum(np.abs(y_true - y_pred), axis=0)/np.sum(y_true, axis=0))"
   ]
  },
  {
   "cell_type": "code",
   "execution_count": 2,
   "metadata": {},
   "outputs": [],
   "source": [
    "fnc = pd.read_csv('fnc.csv')\n",
    "loading = pd.read_csv('loading.csv')\n",
    "reveal = pd.read_csv('reveal_ID_site2.csv')\n",
    "sample = pd.read_csv('sample_submission.csv')\n",
    "train_scores = pd.read_csv('train_scores.csv')\n",
    "\n",
    "fnc_features, loading_features = list(fnc.columns[1:]), list(loading.columns[1:])\n",
    "target_cols = ['age', 'domain1_var1', 'domain1_var2', 'domain2_var1', 'domain2_var2', ]\n",
    "loading = loading.drop(['IC_20'], axis=1)\n",
    "loading_features.remove('IC_20')"
   ]
  },
  {
   "cell_type": "code",
   "execution_count": 3,
   "metadata": {},
   "outputs": [],
   "source": [
    "df = fnc.merge(loading, on=\"Id\")"
   ]
  },
  {
   "cell_type": "code",
   "execution_count": 4,
   "metadata": {},
   "outputs": [],
   "source": [
    "SEED = 0\n",
    "NUM_FOLDS = 7\n",
    "FNC_SCALE = 1/500"
   ]
  },
  {
   "cell_type": "code",
   "execution_count": 5,
   "metadata": {},
   "outputs": [],
   "source": [
    "train_scores[\"is_train\"] = True\n",
    "df = df.merge(train_scores, on=\"Id\", how=\"left\")\n",
    "\n",
    "test_df = df[df[\"is_train\"] != True].copy()\n",
    "df = df[df[\"is_train\"] == True].copy()"
   ]
  },
  {
   "cell_type": "code",
   "execution_count": 6,
   "metadata": {},
   "outputs": [],
   "source": [
    "df[fnc_features] *= FNC_SCALE\n",
    "test_df[fnc_features] *= FNC_SCALE"
   ]
  },
  {
   "cell_type": "code",
   "execution_count": 7,
   "metadata": {},
   "outputs": [],
   "source": [
    "df.age += np.random.uniform(0, 1.0, df.shape[0])\n",
    "df.domain1_var1 += np.random.uniform(0, 1.0, df.shape[0])\n",
    "df.domain1_var2 += np.random.uniform(0, 1.0, df.shape[0])\n",
    "df.domain2_var1 += np.random.uniform(0, 1.0, df.shape[0])\n",
    "df.domain2_var2 += np.random.uniform(0, 1.0, df.shape[0])"
   ]
  },
  {
   "cell_type": "code",
   "execution_count": 8,
   "metadata": {},
   "outputs": [],
   "source": [
    "params = [\n",
    "    \n",
    "{  'ridge_alpha' : 0.0040,                     #params of age\n",
    "    'lasso_alpha' : 0.00009,\n",
    "    'enet_alpha' : 0.000003,\n",
    "    'sgd_alpha' : 0.0003,\n",
    "    'lars_n_nonzero_coefs' : 150  },\n",
    "\n",
    "{  'ridge_alpha' : 0.082,                      #params of domain1_var1\n",
    "    'lasso_alpha' : 0.035,\n",
    "    'enet_alpha' : 0.045,\n",
    "    'sgd_alpha' : 0.0003,\n",
    "    'lars_n_nonzero_coefs' : 150  },\n",
    "\n",
    "{  'ridge_alpha' : 0.24,                       #params of domain1_var2\n",
    "    'lasso_alpha' : 0.03,\n",
    "    'enet_alpha' : 0.00012,\n",
    "    'sgd_alpha' : 0.0003,\n",
    "    'lars_n_nonzero_coefs' : 30   },\n",
    "\n",
    "{  'ridge_alpha' : 0.05,                       #params of domain2_var1\n",
    "    'lasso_alpha' : 0.0003,\n",
    "    'enet_alpha' : 0.00004,\n",
    "    'sgd_alpha' : 0.0003,\n",
    "    'lars_n_nonzero_coefs' : 120  },\n",
    "\n",
    "{  'ridge_alpha' : 0.05,                       #params of domain2_var2\n",
    "    'lasso_alpha' : 0.040,\n",
    "    'enet_alpha' : 0.00004,\n",
    "    'sgd_alpha' : 0.0003,\n",
    "    'lars_n_nonzero_coefs' : 100  }\n",
    "]\n",
    "\n",
    "ENET_RATIO = 0.75\n",
    "SGD_ALPHA = 0.0003\n",
    "SGD_RATIO = 0.75\n",
    "B_RIDGE_ITER = 3000"
   ]
  },
  {
   "cell_type": "code",
   "execution_count": 9,
   "metadata": {},
   "outputs": [
    {
     "name": "stdout",
     "output_type": "stream",
     "text": [
      "=========1.age=========\n",
      "Ridge 0.14165\n",
      "Lasso 0.14232\n",
      "ElasticNet 0.14165\n",
      "SGDRegressor 0.15251\n",
      "Lars 0.1485\n",
      "BayesianRidge 0.15246\n",
      "=========2.domain1_var1=========\n",
      "Ridge 0.14948\n",
      "Lasso 0.1504\n",
      "ElasticNet 0.15039\n",
      "SGDRegressor 0.15068\n",
      "Lars 0.15028\n",
      "BayesianRidge 0.15045\n",
      "=========3.domain1_var2=========\n",
      "Ridge 0.15001\n",
      "Lasso 0.15008\n",
      "ElasticNet 0.15003\n",
      "SGDRegressor 0.15028\n",
      "Lars 0.15004\n",
      "BayesianRidge 0.15009\n",
      "=========4.domain2_var1=========\n",
      "Ridge 0.17972\n",
      "Lasso 0.18004\n",
      "ElasticNet 0.17973\n",
      "SGDRegressor 0.1808\n",
      "Lars 0.18074\n",
      "BayesianRidge 0.18071\n",
      "=========5.domain2_var2=========\n",
      "Ridge 0.17448\n",
      "Lasso 0.1761\n",
      "ElasticNet 0.17453\n",
      "SGDRegressor 0.17622\n",
      "Lars 0.17573\n",
      "BayesianRidge 0.17606\n"
     ]
    }
   ],
   "source": [
    "for i, target in enumerate(target_cols):\n",
    "    \n",
    "    print('========={}.{}========='.format(i+1, target))\n",
    "    \n",
    "    ridge = Ridge( alpha = params[i]['ridge_alpha'] )\n",
    "    lasso = Lasso( alpha = params[i]['lasso_alpha'] )\n",
    "    enet = ElasticNet( alpha = params[i]['enet_alpha'], l1_ratio = ENET_RATIO)\n",
    "    sgd = SGDRegressor(alpha = SGD_ALPHA, l1_ratio = SGD_RATIO )\n",
    "    lars = Lars(n_nonzero_coefs = params[i]['lars_n_nonzero_coefs'])\n",
    "    b_ridge = BayesianRidge(n_iter=B_RIDGE_ITER)\n",
    "\n",
    "    models = [ ridge, lasso, enet, sgd, lars, b_ridge ]\n",
    "    \n",
    "    kf = KFold(n_splits=NUM_FOLDS, shuffle=True, random_state=SEED)\n",
    "    features = loading_features + fnc_features \n",
    "    \n",
    "    for model in models:\n",
    "    \n",
    "        y_oof = np.zeros(df.shape[0])\n",
    "        y_test = np.zeros((test_df.shape[0], NUM_FOLDS))\n",
    "\n",
    "        for f, (train_ind, val_ind) in enumerate(kf.split(df, df)):\n",
    "            train_df, val_df = df.iloc[train_ind], df.iloc[val_ind]\n",
    "            train_df = train_df[train_df[target].notnull()]\n",
    "\n",
    "            model.fit(train_df[features], train_df[target])\n",
    "\n",
    "            y_oof[val_ind] = model.predict(val_df[features])\n",
    "            y_test[:, f] = model.predict(test_df[features])\n",
    "\n",
    "        df['pred_{}_{}'.format(str(model).split('(')[0],target)] = y_oof\n",
    "        test_df['{}_{}'.format(str(model).split('(')[0],target)] = y_test.mean(axis=1)\n",
    "\n",
    "        score = metric(df[df[target].notnull()][target].values, df[df[target].notnull()]['pred_{}_{}'.format(str(model).split('(')[0],target)].values)\n",
    "        print(str(model).split('(')[0], np.round(score, 5))\n"
   ]
  },
  {
   "cell_type": "code",
   "execution_count": 10,
   "metadata": {},
   "outputs": [],
   "source": [
    "for model in models:\n",
    "    \n",
    "    meta_df = pd.DataFrame(columns = ['Id'] + target_cols)\n",
    "    meta_df.Id = df.Id\n",
    "    for col in target_cols:\n",
    "        meta_df[col] = df['pred_{}_{}'.format(str(model).split('(')[0],col)]\n",
    "        \n",
    "    meta_df.to_csv('preds/{}.csv'.format(str(model).split('(')[0]), index=False)\n",
    "    \n",
    "    meta_test_df = pd.DataFrame(columns = ['Id'] + target_cols)\n",
    "    meta_test_df.Id = test_df.Id\n",
    "    for col in target_cols:\n",
    "        meta_test_df[col] = test_df['{}_{}'.format(str(model).split('(')[0],col)]\n",
    "        \n",
    "    meta_test_df.to_csv('preds/test_{}.csv'.format(str(model).split('(')[0]), index=False)"
   ]
  },
  {
   "cell_type": "code",
   "execution_count": null,
   "metadata": {},
   "outputs": [],
   "source": []
  },
  {
   "cell_type": "code",
   "execution_count": null,
   "metadata": {},
   "outputs": [],
   "source": [
    "#this is level 1 of linear models"
   ]
  },
  {
   "cell_type": "code",
   "execution_count": null,
   "metadata": {},
   "outputs": [],
   "source": []
  }
 ],
 "metadata": {
  "kernelspec": {
   "display_name": "Python 3",
   "language": "python",
   "name": "python3"
  },
  "language_info": {
   "codemirror_mode": {
    "name": "ipython",
    "version": 3
   },
   "file_extension": ".py",
   "mimetype": "text/x-python",
   "name": "python",
   "nbconvert_exporter": "python",
   "pygments_lexer": "ipython3",
   "version": "3.6.10"
  }
 },
 "nbformat": 4,
 "nbformat_minor": 4
}
