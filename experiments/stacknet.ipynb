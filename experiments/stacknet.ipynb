{
 "cells": [
  {
   "cell_type": "code",
   "execution_count": 1,
   "metadata": {},
   "outputs": [],
   "source": [
    "import pandas as pd\n",
    "import numpy as np\n",
    "import nibabel as nb\n",
    "import matplotlib.pyplot as plt\n",
    "import seaborn as sns\n",
    "from sklearn.preprocessing import RobustScaler, StandardScaler, MinMaxScaler\n",
    "from sklearn.linear_model import Ridge, Lasso, ElasticNet, SGDRegressor, Lars, BayesianRidge, LinearRegression\n",
    "from sklearn.svm import SVR\n",
    "from sklearn.model_selection import KFold\n",
    "from sklearn.model_selection import cross_val_score\n",
    "from sklearn.ensemble import RandomForestRegressor, ExtraTreesRegressor\n",
    "from sklearn.pipeline import make_pipeline\n",
    "from sklearn.neighbors import NearestNeighbors\n",
    "from sklearn.decomposition import PCA\n",
    "import pystacknet\n",
    "import warnings\n",
    "def ignore_warn(*args, **kwargs):\n",
    "    pass\n",
    "warnings.warn = ignore_warn \n",
    "\n",
    "from scipy import stats\n",
    "from scipy.stats import norm, skew, boxcox\n",
    "from scipy.special import boxcox1p, inv_boxcox\n",
    "def metric(y_true, y_pred, sample_weight=None):\n",
    "    return np.mean(np.sum(np.abs(y_true - y_pred), axis=0)/np.sum(y_true, axis=0))"
   ]
  },
  {
   "cell_type": "code",
   "execution_count": 2,
   "metadata": {},
   "outputs": [],
   "source": [
    "fnc = pd.read_csv('fnc.csv')\n",
    "loading = pd.read_csv('loading.csv')\n",
    "reveal = pd.read_csv('reveal_ID_site2.csv')\n",
    "sample = pd.read_csv('sample_submission.csv')\n",
    "train_scores = pd.read_csv('train_scores.csv')\n",
    "\n",
    "fnc_features, loading_features = list(fnc.columns[1:]), list(loading.columns[1:])\n",
    "loading = loading.drop(['IC_20'], axis=1)\n",
    "loading_features.remove('IC_20')"
   ]
  },
  {
   "cell_type": "code",
   "execution_count": 3,
   "metadata": {},
   "outputs": [],
   "source": [
    "df = fnc.merge(loading, on=\"Id\")"
   ]
  },
  {
   "cell_type": "code",
   "execution_count": 4,
   "metadata": {},
   "outputs": [],
   "source": [
    "np.random.seed(0)\n",
    "SEED = 0\n",
    "NUM_FOLDS = 7\n",
    "FNC_SCALE = 1/500"
   ]
  },
  {
   "cell_type": "code",
   "execution_count": 5,
   "metadata": {
    "scrolled": true
   },
   "outputs": [],
   "source": [
    "scaler = MinMaxScaler()\n",
    "df.iloc[:,1:] = scaler.fit_transform(df.iloc[:,1:])\n",
    "scaler = RobustScaler()\n",
    "df.iloc[:,1:] = scaler.fit_transform(df.iloc[:,1:])\n",
    "\n",
    "train_scores[\"is_train\"] = True\n",
    "df = df.merge(train_scores, on=\"Id\", how=\"left\")\n",
    "\n",
    "test_df = df[df[\"is_train\"] != True].copy()\n",
    "df = df[df[\"is_train\"] == True].copy()"
   ]
  },
  {
   "cell_type": "code",
   "execution_count": 6,
   "metadata": {},
   "outputs": [],
   "source": [
    "df[fnc_features] *= FNC_SCALE\n",
    "test_df[fnc_features] *= FNC_SCALE"
   ]
  },
  {
   "cell_type": "code",
   "execution_count": 7,
   "metadata": {},
   "outputs": [],
   "source": [
    "df.age += np.random.uniform(-1.0, 1.0, df.shape[0])\n",
    "df.domain1_var1 += np.random.uniform(-1.0, 1.0, df.shape[0])\n",
    "df.domain1_var2 += np.random.uniform(-1.0, 1.0, df.shape[0])\n",
    "df.domain2_var1 += np.random.uniform(-1.0, 1.0, df.shape[0])\n",
    "df.domain2_var2 += np.random.uniform(-1.0, 1.0, df.shape[0])"
   ]
  },
  {
   "cell_type": "code",
   "execution_count": 8,
   "metadata": {},
   "outputs": [],
   "source": [
    "ridge = Ridge(alpha=0.004)\n",
    "lasso = Lasso(alpha=0.00009)\n",
    "enet = ElasticNet(alpha=0.000003, l1_ratio=0.75)\n",
    "sgd = SGDRegressor(alpha=0.0003, l1_ratio=0.75 )\n",
    "lars = Lars(n_nonzero_coefs = 150)\n",
    "b_ridge = BayesianRidge(n_iter=3000)\n",
    "lr = LinearRegression()\n",
    "\n",
    "models = [ [ridge, lasso, enet, sgd, lars, b_ridge ], \n",
    "           [lr] ]"
   ]
  },
  {
   "cell_type": "code",
   "execution_count": 9,
   "metadata": {},
   "outputs": [
    {
     "name": "stdout",
     "output_type": "stream",
     "text": [
      "====================== Start of Level 0 ======================\n",
      "Input Dimensionality 1403 at Level 0 \n",
      "6 models included in Level 0 \n",
      "Fold 1/7 , model 0 , custom===0.143157 \n",
      "Fold 1/7 , model 1 , custom===0.142284 \n",
      "Fold 1/7 , model 2 , custom===0.143144 \n",
      "Fold 1/7 , model 3 , custom===0.153297 \n",
      "Fold 1/7 , model 4 , custom===0.148084 \n",
      "Fold 1/7 , model 5 , custom===0.153136 \n",
      "=========== end of fold 1 in level 0 ===========\n",
      "Fold 2/7 , model 0 , custom===0.141160 \n",
      "Fold 2/7 , model 1 , custom===0.141110 \n",
      "Fold 2/7 , model 2 , custom===0.141147 \n",
      "Fold 2/7 , model 3 , custom===0.152896 \n",
      "Fold 2/7 , model 4 , custom===0.146081 \n",
      "Fold 2/7 , model 5 , custom===0.152425 \n",
      "=========== end of fold 2 in level 0 ===========\n",
      "Fold 3/7 , model 0 , custom===0.141752 \n",
      "Fold 3/7 , model 1 , custom===0.143222 \n",
      "Fold 3/7 , model 2 , custom===0.141769 \n",
      "Fold 3/7 , model 3 , custom===0.150535 \n",
      "Fold 3/7 , model 4 , custom===0.148380 \n",
      "Fold 3/7 , model 5 , custom===0.150522 \n",
      "=========== end of fold 3 in level 0 ===========\n",
      "Fold 4/7 , model 0 , custom===0.145148 \n",
      "Fold 4/7 , model 1 , custom===0.145864 \n",
      "Fold 4/7 , model 2 , custom===0.145179 \n",
      "Fold 4/7 , model 3 , custom===0.154882 \n",
      "Fold 4/7 , model 4 , custom===0.150757 \n",
      "Fold 4/7 , model 5 , custom===0.154693 \n",
      "=========== end of fold 4 in level 0 ===========\n",
      "Fold 5/7 , model 0 , custom===0.138261 \n",
      "Fold 5/7 , model 1 , custom===0.139671 \n",
      "Fold 5/7 , model 2 , custom===0.138281 \n",
      "Fold 5/7 , model 3 , custom===0.150809 \n",
      "Fold 5/7 , model 4 , custom===0.147817 \n",
      "Fold 5/7 , model 5 , custom===0.150404 \n",
      "=========== end of fold 5 in level 0 ===========\n",
      "Fold 6/7 , model 0 , custom===0.141312 \n",
      "Fold 6/7 , model 1 , custom===0.141933 \n",
      "Fold 6/7 , model 2 , custom===0.141315 \n",
      "Fold 6/7 , model 3 , custom===0.150642 \n",
      "Fold 6/7 , model 4 , custom===0.145708 \n",
      "Fold 6/7 , model 5 , custom===0.150302 \n",
      "=========== end of fold 6 in level 0 ===========\n",
      "Fold 7/7 , model 0 , custom===0.152562 \n",
      "Fold 7/7 , model 1 , custom===0.154157 \n",
      "Fold 7/7 , model 2 , custom===0.152554 \n",
      "Fold 7/7 , model 3 , custom===0.167324 \n",
      "Fold 7/7 , model 4 , custom===0.164169 \n",
      "Fold 7/7 , model 5 , custom===0.167092 \n",
      "=========== end of fold 7 in level 0 ===========\n",
      "Output dimensionality of level 0 is 6 \n",
      "====================== End of Level 0 ======================\n",
      " level 0 lasted 116.369895 seconds \n",
      "====================== Start of Level 1 ======================\n",
      "Input Dimensionality 6 at Level 1 \n",
      "1 models included in Level 1 \n",
      "Fold 1/7 , model 0 , custom===0.143137 \n",
      "=========== end of fold 1 in level 1 ===========\n",
      "Fold 2/7 , model 0 , custom===0.141450 \n",
      "=========== end of fold 2 in level 1 ===========\n",
      "Fold 3/7 , model 0 , custom===0.141492 \n",
      "=========== end of fold 3 in level 1 ===========\n",
      "Fold 4/7 , model 0 , custom===0.144581 \n",
      "=========== end of fold 4 in level 1 ===========\n",
      "Fold 5/7 , model 0 , custom===0.138107 \n",
      "=========== end of fold 5 in level 1 ===========\n",
      "Fold 6/7 , model 0 , custom===0.141027 \n",
      "=========== end of fold 6 in level 1 ===========\n",
      "Fold 7/7 , model 0 , custom===0.153019 \n",
      "=========== end of fold 7 in level 1 ===========\n",
      "Output dimensionality of level 1 is 1 \n",
      "====================== End of Level 1 ======================\n",
      " level 1 lasted 0.087948 seconds \n",
      "====================== End of fit ======================\n",
      " fit() lasted 116.459779 seconds \n"
     ]
    }
   ],
   "source": [
    "target = 'age'\n",
    "\n",
    "from pystacknet.pystacknet import StackNetRegressor\n",
    "\n",
    "features = loading_features + fnc_features\n",
    "model = StackNetRegressor( models, \n",
    "                           metric=metric, \n",
    "                           folds=7,\n",
    "                           restacking=False,\n",
    "                           use_retraining=True,\n",
    "                           random_state=SEED,\n",
    "                           n_jobs=-1, \n",
    "                           verbose=1)\n",
    "\n",
    "# Fit the entire model tree\n",
    "model.fit(df[df[target].notnull()][features], df[df[target].notnull()][target])"
   ]
  },
  {
   "cell_type": "code",
   "execution_count": null,
   "metadata": {},
   "outputs": [],
   "source": []
  },
  {
   "cell_type": "code",
   "execution_count": 41,
   "metadata": {},
   "outputs": [],
   "source": [
    "#does not cater to the needs, not helpful :("
   ]
  },
  {
   "cell_type": "code",
   "execution_count": null,
   "metadata": {},
   "outputs": [],
   "source": []
  }
 ],
 "metadata": {
  "kernelspec": {
   "display_name": "Python 3",
   "language": "python",
   "name": "python3"
  },
  "language_info": {
   "codemirror_mode": {
    "name": "ipython",
    "version": 3
   },
   "file_extension": ".py",
   "mimetype": "text/x-python",
   "name": "python",
   "nbconvert_exporter": "python",
   "pygments_lexer": "ipython3",
   "version": "3.6.10"
  }
 },
 "nbformat": 4,
 "nbformat_minor": 4
}
