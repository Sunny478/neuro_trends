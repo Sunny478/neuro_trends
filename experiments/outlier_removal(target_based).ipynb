{
 "cells": [
  {
   "cell_type": "code",
   "execution_count": 1,
   "metadata": {},
   "outputs": [],
   "source": [
    "import pandas as pd\n",
    "import numpy as np\n",
    "import nibabel as nb\n",
    "import matplotlib.pyplot as plt\n",
    "import seaborn as sns\n",
    "from sklearn.preprocessing import RobustScaler, StandardScaler, MinMaxScaler\n",
    "from sklearn.linear_model import Ridge, Lasso, ElasticNet, SGDRegressor, Lars, BayesianRidge\n",
    "from sklearn.svm import SVR\n",
    "from sklearn.model_selection import KFold\n",
    "from sklearn.model_selection import cross_val_score\n",
    "from sklearn.ensemble import RandomForestRegressor, ExtraTreesRegressor\n",
    "from sklearn.neighbors import NearestNeighbors\n",
    "from sklearn.decomposition import PCA\n",
    "import warnings\n",
    "def ignore_warn(*args, **kwargs):\n",
    "    pass\n",
    "warnings.warn = ignore_warn \n",
    "\n",
    "from scipy import stats\n",
    "from scipy.stats import norm, skew, boxcox\n",
    "from scipy.special import boxcox1p, inv_boxcox\n",
    "def metric(y_true, y_pred):\n",
    "    return np.mean(np.sum(np.abs(y_true - y_pred), axis=0)/np.sum(y_true, axis=0))"
   ]
  },
  {
   "cell_type": "code",
   "execution_count": 2,
   "metadata": {},
   "outputs": [],
   "source": [
    "fnc = pd.read_csv('fnc.csv')\n",
    "loading = pd.read_csv('loading.csv')\n",
    "reveal = pd.read_csv('reveal_ID_site2.csv')\n",
    "sample = pd.read_csv('sample_submission.csv')\n",
    "train_scores = pd.read_csv('train_scores.csv')\n",
    "\n",
    "fnc_features, loading_features = list(fnc.columns[1:]), list(loading.columns[1:])\n",
    "loading = loading.drop(['IC_20'], axis=1)\n",
    "loading_features.remove('IC_20')"
   ]
  },
  {
   "cell_type": "code",
   "execution_count": 3,
   "metadata": {},
   "outputs": [],
   "source": [
    "df = fnc.merge(loading, on=\"Id\")"
   ]
  },
  {
   "cell_type": "code",
   "execution_count": 4,
   "metadata": {},
   "outputs": [],
   "source": [
    "np.random.seed(0)\n",
    "SEED = 0\n",
    "NUM_FOLDS = 7\n",
    "FNC_SCALE = 1/500"
   ]
  },
  {
   "cell_type": "code",
   "execution_count": 5,
   "metadata": {
    "scrolled": true
   },
   "outputs": [],
   "source": [
    "scaler = MinMaxScaler()\n",
    "df.iloc[:,1:] = scaler.fit_transform(df.iloc[:,1:])\n",
    "scaler = RobustScaler()\n",
    "df.iloc[:,1:] = scaler.fit_transform(df.iloc[:,1:])\n",
    "\n",
    "train_scores[\"is_train\"] = True\n",
    "df = df.merge(train_scores, on=\"Id\", how=\"left\")\n",
    "\n",
    "test_df = df[df[\"is_train\"] != True].copy()\n",
    "df = df[df[\"is_train\"] == True].copy()"
   ]
  },
  {
   "cell_type": "code",
   "execution_count": 6,
   "metadata": {},
   "outputs": [],
   "source": [
    "df[fnc_features] *= FNC_SCALE\n",
    "test_df[fnc_features] *= FNC_SCALE"
   ]
  },
  {
   "cell_type": "code",
   "execution_count": 7,
   "metadata": {},
   "outputs": [
    {
     "name": "stdout",
     "output_type": "stream",
     "text": [
      "domain1_var1 min 15.769168440909901\n",
      "domain1_var1 01th percentile 26.58061988855929\n",
      "domain1_var1 99th percentile 73.02125412101981\n",
      "domain1_var1 max 81.32558046682091\n",
      "domain1_var2 min 1.02187412680241\n",
      "domain1_var2 01th percentile 28.27045302027076\n",
      "domain1_var2 99th percentile 81.57128873138902\n",
      "domain1_var2 max 94.7028742938426\n",
      "domain2_var1 min 0.991171589270998\n",
      "domain2_var1 01th percentile 19.2253225107988\n",
      "domain2_var1 99th percentile 70.77440609445974\n",
      "domain2_var1 max 82.16447810733759\n",
      "domain2_var2 min 0.81528459031756\n",
      "domain2_var2 01th percentile 21.147699249805104\n",
      "domain2_var2 99th percentile 77.53994705843043\n",
      "domain2_var2 max 94.5099033141969\n"
     ]
    }
   ],
   "source": [
    "for col in ['domain1_var1','domain1_var2','domain2_var1','domain2_var2']:\n",
    "    print('{} min'.format(col), df[df[col].notnull()][col].min() )\n",
    "    print('{} 01th percentile'.format(col), np.quantile( df[df[col].notnull()][col], 0.01))\n",
    "    print('{} 99th percentile'.format(col), np.quantile( df[df[col].notnull()][col], 0.99))\n",
    "    print('{} max'.format(col), df[df[col].notnull()][col].max() )"
   ]
  },
  {
   "cell_type": "code",
   "execution_count": 8,
   "metadata": {},
   "outputs": [],
   "source": [
    "for col in ['domain1_var1','domain1_var2','domain2_var1','domain2_var2']:\n",
    "    lower_quant = np.quantile( df[df[col].notnull()][col], 0.01)\n",
    "    upper_quant = np.quantile( df[df[col].notnull()][col], 0.99)\n",
    "    df.loc[(df[col] <= lower_quant), col]  = np.nan\n",
    "    df.loc[(df[col] >= upper_quant), col]  = np.nan"
   ]
  },
  {
   "cell_type": "code",
   "execution_count": null,
   "metadata": {},
   "outputs": [],
   "source": []
  },
  {
   "cell_type": "code",
   "execution_count": 17,
   "metadata": {},
   "outputs": [],
   "source": [
    "target = 'domain1_var1'\n",
    "features = loading_features + fnc_features \n",
    "def rmse_cv(model):\n",
    "    rmse = np.sqrt(-cross_val_score(model, df[df[target].notnull()][features], df[df[target].notnull()][target], scoring='neg_mean_squared_error', cv=NUM_FOLDS))\n",
    "    return rmse"
   ]
  },
  {
   "cell_type": "code",
   "execution_count": 18,
   "metadata": {},
   "outputs": [
    {
     "name": "stdout",
     "output_type": "stream",
     "text": [
      "0.054    9.205568\n",
      "0.055    9.205379\n",
      "0.056    9.205202\n",
      "0.057    9.205036\n",
      "dtype: float64\n",
      "CPU times: user 30 s, sys: 8.16 s, total: 38.1 s\n",
      "Wall time: 10.3 s\n"
     ]
    }
   ],
   "source": [
    "%%time\n",
    "\n",
    "alphas_ridge = [ 0.054, 0.055, 0.056, 0.057 ]\n",
    "cv_ridge = [rmse_cv(Ridge(alpha = al)).mean() for al in alphas_ridge]\n",
    "\n",
    "cv_ridge = pd.Series(cv_ridge, index=alphas_ridge)\n",
    "print(cv_ridge)"
   ]
  },
  {
   "cell_type": "code",
   "execution_count": 9,
   "metadata": {},
   "outputs": [
    {
     "data": {
      "text/plain": [
       "Text(0, 0.5, 'rmse')"
      ]
     },
     "execution_count": 9,
     "metadata": {},
     "output_type": "execute_result"
    },
    {
     "data": {
      "image/png": "[encoded data removed]",
      "text/plain": [
       "<Figure size 720x720 with 1 Axes>"
      ]
     },
     "metadata": {
      "needs_background": "light"
     },
     "output_type": "display_data"
    }
   ],
   "source": [
    "plt.figure(figsize=(10,10))\n",
    "cv_ridge.plot(title='Alphas vs rmse error for {}'.format(target))\n",
    "plt.xlabel('alpha')\n",
    "plt.ylabel('rmse')"
   ]
  },
  {
   "cell_type": "code",
   "execution_count": null,
   "metadata": {},
   "outputs": [],
   "source": []
  },
  {
   "cell_type": "code",
   "execution_count": null,
   "metadata": {},
   "outputs": [],
   "source": []
  },
  {
   "cell_type": "code",
   "execution_count": 9,
   "metadata": {},
   "outputs": [
    {
     "name": "stdout",
     "output_type": "stream",
     "text": [
      "age 0.14293 0.1429\n",
      "domain1_var1 0.14457 0.1446\n",
      "domain1_var2 0.14329 0.1433\n",
      "domain2_var1 0.17141 0.1714\n",
      "domain2_var2 0.16632 0.1663\n",
      "\n",
      "Overall score: 0.15236 0.1524\n"
     ]
    }
   ],
   "source": [
    "kf = KFold(n_splits=NUM_FOLDS, shuffle=True, random_state=SEED)\n",
    "features = loading_features + fnc_features\n",
    "overal_score = 0\n",
    "for target, c, w, al in [ ('age', 6, 0.3, 0.004), ('domain1_var1', 0, 0.175, 0.08),('domain1_var2', 0, 0.175, 0.22),('domain2_var1', 0, 0.175, 0.05),('domain2_var2', 0, 0.175, 0.047)]:    \n",
    "\n",
    "    y_oof = np.zeros(df.shape[0])\n",
    "    y_test = np.zeros((test_df.shape[0], NUM_FOLDS))\n",
    "    \n",
    "    for f, (train_ind, val_ind) in enumerate(kf.split(df, df)):\n",
    "        train_df, val_df = df.iloc[train_ind], df.iloc[val_ind]\n",
    "        train_df = train_df[train_df[target].notnull()]\n",
    "\n",
    "        model = Ridge(alpha = al)\n",
    "        model.fit(train_df[features], train_df[target])\n",
    "\n",
    "        y_oof[val_ind] = model.predict(val_df[features])\n",
    "        y_test[:, f] = model.predict(test_df[features])\n",
    "        \n",
    "    df[\"pred_{}\".format(target)] = y_oof\n",
    "    test_df[target] = y_test.mean(axis=1)\n",
    "    \n",
    "    score = metric(df[df[target].notnull()][target].values, df[df[target].notnull()][\"pred_{}\".format(target)].values)\n",
    "    overal_score += w*score\n",
    "    print(target, np.round(score, 5), np.round(score, 4))\n",
    "    \n",
    "print(\"\\nOverall score:\", np.round(overal_score, 5), np.round(overal_score, 4))"
   ]
  },
  {
   "cell_type": "code",
   "execution_count": null,
   "metadata": {},
   "outputs": [],
   "source": [
    "#submission"
   ]
  },
  {
   "cell_type": "code",
   "execution_count": 10,
   "metadata": {},
   "outputs": [
    {
     "data": {
      "text/html": [
       "<div>\n",
       "<style scoped>\n",
       "    .dataframe tbody tr th:only-of-type {\n",
       "        vertical-align: middle;\n",
       "    }\n",
       "\n",
       "    .dataframe tbody tr th {\n",
       "        vertical-align: top;\n",
       "    }\n",
       "\n",
       "    .dataframe thead th {\n",
       "        text-align: right;\n",
       "    }\n",
       "</style>\n",
       "<table border=\"1\" class=\"dataframe\">\n",
       "  <thead>\n",
       "    <tr style=\"text-align: right;\">\n",
       "      <th></th>\n",
       "      <th>Id</th>\n",
       "      <th>Predicted</th>\n",
       "    </tr>\n",
       "  </thead>\n",
       "  <tbody>\n",
       "    <tr>\n",
       "      <th>0</th>\n",
       "      <td>10003_age</td>\n",
       "      <td>59.621590</td>\n",
       "    </tr>\n",
       "    <tr>\n",
       "      <th>5877</th>\n",
       "      <td>10003_domain1_var1</td>\n",
       "      <td>48.598144</td>\n",
       "    </tr>\n",
       "    <tr>\n",
       "      <th>11754</th>\n",
       "      <td>10003_domain1_var2</td>\n",
       "      <td>60.432825</td>\n",
       "    </tr>\n",
       "    <tr>\n",
       "      <th>17631</th>\n",
       "      <td>10003_domain2_var1</td>\n",
       "      <td>49.723556</td>\n",
       "    </tr>\n",
       "    <tr>\n",
       "      <th>23508</th>\n",
       "      <td>10003_domain2_var2</td>\n",
       "      <td>55.797171</td>\n",
       "    </tr>\n",
       "    <tr>\n",
       "      <th>1</th>\n",
       "      <td>10006_age</td>\n",
       "      <td>63.221566</td>\n",
       "    </tr>\n",
       "    <tr>\n",
       "      <th>5878</th>\n",
       "      <td>10006_domain1_var1</td>\n",
       "      <td>54.406087</td>\n",
       "    </tr>\n",
       "    <tr>\n",
       "      <th>11755</th>\n",
       "      <td>10006_domain1_var2</td>\n",
       "      <td>58.646868</td>\n",
       "    </tr>\n",
       "    <tr>\n",
       "      <th>17632</th>\n",
       "      <td>10006_domain2_var1</td>\n",
       "      <td>48.889666</td>\n",
       "    </tr>\n",
       "    <tr>\n",
       "      <th>23509</th>\n",
       "      <td>10006_domain2_var2</td>\n",
       "      <td>51.987682</td>\n",
       "    </tr>\n",
       "  </tbody>\n",
       "</table>\n",
       "</div>"
      ],
      "text/plain": [
       "                       Id  Predicted\n",
       "0               10003_age  59.621590\n",
       "5877   10003_domain1_var1  48.598144\n",
       "11754  10003_domain1_var2  60.432825\n",
       "17631  10003_domain2_var1  49.723556\n",
       "23508  10003_domain2_var2  55.797171\n",
       "1               10006_age  63.221566\n",
       "5878   10006_domain1_var1  54.406087\n",
       "11755  10006_domain1_var2  58.646868\n",
       "17632  10006_domain2_var1  48.889666\n",
       "23509  10006_domain2_var2  51.987682"
      ]
     },
     "execution_count": 10,
     "metadata": {},
     "output_type": "execute_result"
    }
   ],
   "source": [
    "sub_df = pd.melt(test_df[[\"Id\", \"age\", \"domain1_var1\", \"domain1_var2\", \"domain2_var1\", \"domain2_var2\"]], id_vars=[\"Id\"], value_name=\"Predicted\")\n",
    "sub_df[\"Id\"] = sub_df[\"Id\"].astype(\"str\") + \"_\" +  sub_df[\"variable\"].astype(\"str\")\n",
    "\n",
    "sub_df = sub_df.drop(\"variable\", axis=1).sort_values(\"Id\")\n",
    "assert sub_df.shape[0] == test_df.shape[0]*5\n",
    "sub_df.head(10)"
   ]
  },
  {
   "cell_type": "code",
   "execution_count": 11,
   "metadata": {},
   "outputs": [],
   "source": [
    "sub_df.to_csv('subs/checking_effect_of_outlier_removal_target_based.csv', index=False)"
   ]
  },
  {
   "cell_type": "code",
   "execution_count": null,
   "metadata": {},
   "outputs": [],
   "source": []
  },
  {
   "cell_type": "code",
   "execution_count": 1,
   "metadata": {},
   "outputs": [],
   "source": [
    "#koi farak nahi pada 0.1599 hi raha\n",
    "#maybe test set me outlier targets bhi hain"
   ]
  },
  {
   "cell_type": "code",
   "execution_count": null,
   "metadata": {},
   "outputs": [],
   "source": []
  }
 ],
 "metadata": {
  "kernelspec": {
   "display_name": "Python 3",
   "language": "python",
   "name": "python3"
  },
  "language_info": {
   "codemirror_mode": {
    "name": "ipython",
    "version": 3
   },
   "file_extension": ".py",
   "mimetype": "text/x-python",
   "name": "python",
   "nbconvert_exporter": "python",
   "pygments_lexer": "ipython3",
   "version": "3.6.10"
  }
 },
 "nbformat": 4,
 "nbformat_minor": 4
}
